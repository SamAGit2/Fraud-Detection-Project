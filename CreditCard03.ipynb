{
 "cells": [
  {
   "cell_type": "code",
   "execution_count": 52,
   "id": "b88d96f6-399b-477a-887b-d7bb000fbcfb",
   "metadata": {},
   "outputs": [
    {
     "name": "stdout",
     "output_type": "stream",
     "text": [
      "   Time_hours  Time  Freq_per_hour\n",
      "0    0.000000   0.0              2\n",
      "1    0.000000   0.0              2\n",
      "2    0.000278   1.0              2\n",
      "3    0.000278   1.0              2\n",
      "4    0.000556   2.0              2\n"
     ]
    }
   ],
   "source": [
    "import pandas as pd\n",
    "df = pd.read_csv('creditcard.csv')\n",
    "df['Time_hours'] = df['Time'] / 3600\n",
    "freq_per_hour = df.groupby('Time_hours')['Time_hours'].transform('size')  # Updated to Time_hours\n",
    "df['Freq_per_hour'] = freq_per_hour\n",
    "print(df[['Time_hours', 'Time','Freq_per_hour']].head())\n",
    "# Note: Using transform('size') applies the hourly transaction count to each row,\n",
    "# eliminating the need for join, which struggled with duplicate Time_hours indices."
   ]
  },
  {
   "cell_type": "code",
   "execution_count": 53,
   "id": "29c52265-5a2c-48f8-860b-c7604542a617",
   "metadata": {},
   "outputs": [
    {
     "name": "stdout",
     "output_type": "stream",
     "text": [
      "   Time_hours  Freq_per_hour\n",
      "0    0.000000              2\n",
      "1    0.000278              2\n",
      "2    0.000556              2\n",
      "3    0.001111              1\n",
      "4    0.001944              2\n"
     ]
    }
   ],
   "source": [
    "import pandas as pd\n",
    "df = pd.read_csv('creditcard.csv')\n",
    "df['Time_hours'] = df['Time'] / 3600\n",
    "freq_per_hour = df.groupby('Time_hours').size().reset_index(name='Freq_per_hour')\n",
    "print(freq_per_hour.head())\n",
    "\n",
    "# This code converts Time to hours and uses groupby().size().reset_index() to create\n",
    "# a table with one row per hour, showing the total transaction count (Freq_per_hour) for each.\n"
   ]
  },
  {
   "cell_type": "code",
   "execution_count": null,
   "id": "07b0799c-5c91-48ce-96aa-76ab4ca1e743",
   "metadata": {},
   "outputs": [],
   "source": []
  }
 ],
 "metadata": {
  "kernelspec": {
   "display_name": "Python 3 (ipykernel)",
   "language": "python",
   "name": "python3"
  },
  "language_info": {
   "codemirror_mode": {
    "name": "ipython",
    "version": 3
   },
   "file_extension": ".py",
   "mimetype": "text/x-python",
   "name": "python",
   "nbconvert_exporter": "python",
   "pygments_lexer": "ipython3",
   "version": "3.13.5"
  }
 },
 "nbformat": 4,
 "nbformat_minor": 5
}
